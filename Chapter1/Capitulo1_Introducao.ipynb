{
 "metadata": {
  "name": "Capitulo1_Introducao"
 },
 "nbformat": 3,
 "nbformat_minor": 0,
 "worksheets": [
  {
   "cells": [
    {
     "cell_type": "markdown",
     "metadata": {},
     "source": [
      "Cap\u00edtulo 1\n",
      "==========\n",
      "__________\n",
      "\n",
      "Introdu\u00e7\u00e3o\n",
      "----------\n",
      "[Python](http://www.python.org) \u00e9 uma linguagem de alt\u00edssimo n\u00edvel (em ingl\u00eas, *Very High Level Language*) orientada a objeto, de tipagem din\u00e2mica e forte, interpretada e interativa.\n",
      "\n",
      "Caracter\u00edsticas\n",
      "---------------\n",
      "O Python possui uma sintaxe clara e concisa, que favorece a legibilidade do c\u00f3digo fonte, tornando a linguagem mais produtiva.\n",
      "\n",
      "A linguagem inclui diversas estruturas de alto n\u00edvel (listas, dicion\u00e1rios, data / hora, complexos e outras) e uma vasta cole\u00e7\u00e3o de m\u00f3dulos prontos para uso, al\u00e9m de *frameworks* de terceiros que podem ser adicionados. Tamb\u00e9m possui recursos encontrados em outras linguagens modernas, tais como: geradores, introspec\u00e7\u00e3o, persist\u00eancia, metaclasses e unidades de teste. Multiparadigma, a linguagem suporta programa\u00e7\u00e3o modular e funcional, al\u00e9m da orienta\u00e7\u00e3o a objetos. Mesmo os tipos b\u00e1sicos no Python s\u00e3o objetos. A linguagem \u00e9 interpretada atrav\u00e9s de *bytecode* pela m\u00e1quina virtual Python, tornando o c\u00f3digo port\u00e1vel. Com isso \u00e9 poss\u00edvel compilar aplica\u00e7\u00f5es em uma plataforma e rodar em outros sistemas ou executar direto do c\u00f3digo fonte."
     ]
    },
    {
     "cell_type": "code",
     "collapsed": false,
     "input": [
      "from IPython.core.display import HTML\n",
      "def css_styling():\n",
      "    styles = open(\"../styles/custom.css\", \"r\").read()\n",
      "    return HTML(styles)\n",
      "css_styling()"
     ],
     "language": "python",
     "metadata": {},
     "outputs": [
      {
       "html": [
        "<style>\n",
        "    @font-face {\n",
        "        font-family: \"Computer Modern\";\n",
        "        src: url('http://mirrors.ctan.org/fonts/cm-unicode/fonts/otf/cmunss.otf');\n",
        "    }\n",
        "    div.cell{\n",
        "        width:800px;\n",
        "        margin-left:16% !important;\n",
        "        margin-right:auto;\n",
        "    }\n",
        "    h1 {\n",
        "        font-family: Helvetica, serif;\n",
        "    }\n",
        "    h4{\n",
        "        margin-top:12px;\n",
        "        margin-bottom: 3px;\n",
        "       }\n",
        "    div.text_cell_render{\n",
        "        font-family: Computer Modern, \"Helvetica Neue\", Arial, Helvetica, Geneva, sans-serif;\n",
        "        line-height: 145%;\n",
        "        font-size: 130%;\n",
        "        width:800px;\n",
        "        margin-left:auto;\n",
        "        margin-right:auto;\n",
        "    }\n",
        "    .CodeMirror{\n",
        "            font-family: \"Source Code Pro\", source-code-pro,Consolas, monospace;\n",
        "    }\n",
        "    .prompt{\n",
        "        display: None;\n",
        "    }\n",
        "    .text_cell_render h5 {\n",
        "        font-weight: 300;\n",
        "        font-size: 16pt;\n",
        "        color: #4057A1;\n",
        "        font-style: italic;\n",
        "        margin-bottom: .5em;\n",
        "        margin-top: 0.5em;\n",
        "        display: block;\n",
        "    }\n",
        "    \n",
        "    .warning{\n",
        "        color: rgb( 240, 20, 20 )\n",
        "        }  \n",
        "</style>\n",
        "<script>\n",
        "    MathJax.Hub.Config({\n",
        "                        TeX: {\n",
        "                           extensions: [\"AMSmath.js\"]\n",
        "                           },\n",
        "                tex2jax: {\n",
        "                    inlineMath: [ ['$','$'], [\"\\\\(\",\"\\\\)\"] ],\n",
        "                    displayMath: [ ['$$','$$'], [\"\\\\[\",\"\\\\]\"] ]\n",
        "                },\n",
        "                displayAlign: 'center', // Change this to 'center' to center equations.\n",
        "                \"HTML-CSS\": {\n",
        "                    styles: {'.MathJax_Display': {\"margin\": 4}}\n",
        "                }\n",
        "        });\n",
        "</script>"
       ],
       "output_type": "pyout",
       "prompt_number": 1,
       "text": [
        "<IPython.core.display.HTML at 0x50f8f98>"
       ]
      }
     ],
     "prompt_number": 1
    }
   ],
   "metadata": {}
  }
 ]
}