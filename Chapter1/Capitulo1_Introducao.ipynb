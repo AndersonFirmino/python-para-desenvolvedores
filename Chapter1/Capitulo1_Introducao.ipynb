{
 "metadata": {
  "name": "Capitulo1_Introducao"
 },
 "nbformat": 3,
 "nbformat_minor": 0,
 "worksheets": [
  {
   "cells": [
    {
     "cell_type": "markdown",
     "metadata": {},
     "source": [
      "Cap\u00edtulo 1\n",
      "==========\n",
      "__________\n",
      "\n",
      "Introdu\u00e7\u00e3o\n",
      "----------\n",
      "[Python](http://www.python.org) \u00e9 uma linguagem de alt\u00edssimo n\u00edvel (em ingl\u00eas, *Very High Level Language*) orientada a objeto, de tipagem din\u00e2mica e forte, interpretada e interativa.\n",
      "\n",
      "Caracter\u00edsticas\n",
      "---------------\n",
      "O Python possui uma sintaxe clara e concisa, que favorece a legibilidade do c\u00f3digo fonte, tornando a linguagem mais produtiva.\n",
      "\n",
      "A linguagem inclui diversas estruturas de alto n\u00edvel (listas, dicion\u00e1rios, data / hora, complexos e outras) e uma vasta cole\u00e7\u00e3o de m\u00f3dulos prontos para uso, al\u00e9m de *frameworks* de terceiros que podem ser adicionados. Tamb\u00e9m possui recursos encontrados em outras linguagens modernas, tais como: geradores, introspec\u00e7\u00e3o, persist\u00eancia, metaclasses e unidades de teste. Multiparadigma, a linguagem suporta programa\u00e7\u00e3o modular e funcional, al\u00e9m da orienta\u00e7\u00e3o a objetos. Mesmo os tipos b\u00e1sicos no Python s\u00e3o objetos. A linguagem \u00e9 interpretada atrav\u00e9s de *bytecode* pela m\u00e1quina virtual Python, tornando o c\u00f3digo port\u00e1vel. Com isso \u00e9 poss\u00edvel compilar aplica\u00e7\u00f5es em uma plataforma e rodar em outros sistemas ou executar direto do c\u00f3digo fonte.\n",
      "\n",
      "Python \u00e9 um software de c\u00f3digo aberto (com licen\u00e7a compat\u00edvel com a *General Public License* (GPL), por\u00e9m menos restritiva, permitindo que o Python seja inclusive incorporado em produtos propriet\u00e1rios). A especifica\u00e7\u00e3o da linguagem \u00e9 mantida pela [ Python Software Foundation](http://www.python.org/psf/) (PSF).\n",
      "\n",
      "Al\u00e9m de ser utilizado como linguagem principal no desenvolvimento de sistemas, o Python tamb\u00e9m \u00e9 muito utilizado como linguagem *script* em v\u00e1rios softwares, permitindo automatizar tarefas e adicionar novas funcionalidades, entre eles: BrOffice.org, PostgreSQL, Blender, GIMP e Inkscape.\n",
      "\n",
      "\u00c9 poss\u00edvel integrar o Python a outras linguagens, como a Linguagem C e Fortran. Em termos gerais, a linguagem apresenta muitas similaridades com outras linguagens din\u00e2micas, como Perl e Ruby.\n",
      "\n",
      "Hist\u00f3rico\n",
      "---------\n",
      "A linguagem foi criada em 1990 por Guido van Rossum, no Instituto Nacional de Pesquisa para Matem\u00e1tica e Ci\u00eancia da Computa\u00e7\u00e3o da Holanda (CWI) e tinha originalmente foco em usu\u00e1rios como f\u00edsicos e engenheiros. O Python foi concebido a partir de outra linguagem existente na \u00e9poca, chamada ABC.\n",
      "\n",
      "Hoje, a linguagem \u00e9 bem aceita na ind\u00fastria por empresas de alta tecnologia, tais como:\n",
      "\n",
      "+ Google (aplica\u00e7\u00f5es Web).\n",
      "+ Yahoo (aplica\u00e7\u00f5es Web).\n",
      "+ Microsoft (IronPython: Python para .NET)\n",
      "+ Nokia (dispon\u00edvel para as linhas recentes de celulares e PDAs).\n",
      "+ Disney (anima\u00e7\u00f5es 3D).\n",
      "\n",
      "Vers\u00f5es\n",
      "-------\n",
      "A implementa\u00e7\u00e3o oficial do Python \u00e9 mantida pela PSF e escrita em C, e por isso, \u00e9 tamb\u00e9m conhecida como CPython. A vers\u00e3o est\u00e1vel mais recente est\u00e1 dispon\u00edvel para download no endere\u00e7o:\n",
      "\n",
      "[http://www.python.org/download/](http://www.python.org/download/)\n",
      "\n",
      "Para a plataforma Windows, basta executar o instalador. Para outras plataformas, como em sistemas Linux, geralmente o Python j\u00e1 faz parte do sistema, por\u00e9m em alguns casos pode ser necess\u00e1rio compilar e instalar o interpretador a partir dos arquivos fonte.\n",
      "\n",
      "Existem tamb\u00e9m implementa\u00e7\u00f5es de Python para .NET (IronPython), JVM (Jython) e em Python (PyPy).\n",
      "\n",
      "Executando programas\n",
      "--------------------\n",
      "\n",
      "Exemplo de programa em Python:"
     ]
    },
    {
     "cell_type": "code",
     "collapsed": false,
     "input": [
      "# O caractere \"#\" indica que o resto da linha \u00e9 um coment\u00e1rio\n",
      "\n",
      "# Uma lista de instrumentos musicais\n",
      "instrumentos = ['Baixo', 'Bateria', 'Guitarra']\n",
      "\n",
      "# Para cada nome na lista de instrumentos\n",
      "for instrumento in instrumentos:\n",
      "    # mostre o nome do instrumento musical\n",
      "    print instrumento"
     ],
     "language": "python",
     "metadata": {},
     "outputs": [
      {
       "output_type": "stream",
       "stream": "stdout",
       "text": [
        "Baixo\n",
        "Bateria\n",
        "Guitarra\n"
       ]
      }
     ],
     "prompt_number": 3
    },
    {
     "cell_type": "markdown",
     "metadata": {},
     "source": [
      "No exemplo, `instrumentos` \u00e9 uma lista contendo os itens \u201cBaixo\u201d, \u201cBateria\u201d e \u201cGuitarra\u201d. J\u00e1 `instrumento` \u00e9 um nome que corresponde a cada um dos itens da lista, conforme o la\u00e7o \u00e9 executado.\n",
      "\n",
      "Os arquivos fonte s\u00e3o identificados geralmente pela extens\u00e3o \u201c.py\u201d e podem ser executados diretamente pelo interpretador:\n",
      "\n",
      "`python apl.py`\n",
      "\n",
      "Assim o programa `apl.py` ser\u00e1 executado. No Windows, as extens\u00f5es de arquivo \u201c.py\u201d, \u201c.pyw\u201d, \u201c.pyc\u201d e \u201c.pyo\u201d s\u00e3o associadas ao Python automaticamente durante a instala\u00e7\u00e3o, ent\u00e3o \u00e9 s\u00f3 clicar no arquivo para executar. Os arquivos \u201c.pyw\u201d s\u00e3o executados com uma vers\u00e3o alternativa do interpretador que n\u00e3o abre a janela de console."
     ]
    },
    {
     "cell_type": "code",
     "collapsed": false,
     "input": [],
     "language": "python",
     "metadata": {},
     "outputs": [],
     "prompt_number": 6
    },
    {
     "cell_type": "code",
     "collapsed": false,
     "input": [],
     "language": "python",
     "metadata": {},
     "outputs": [
      {
       "html": [
        "<style>\n",
        "    @font-face {\n",
        "        font-family: \"Computer Modern\";\n",
        "        src: url('http://mirrors.ctan.org/fonts/cm-unicode/fonts/otf/cmunss.otf');\n",
        "    }\n",
        "    div.cell{\n",
        "        width:800px;\n",
        "        margin-left:16% !important;\n",
        "        margin-right:auto;\n",
        "    }\n",
        "    h1 {\n",
        "        font-family: Helvetica, serif;\n",
        "    }\n",
        "    h4{\n",
        "        margin-top:12px;\n",
        "        margin-bottom: 3px;\n",
        "       }\n",
        "    div.text_cell_render{\n",
        "        font-family: Computer Modern, \"Helvetica Neue\", Arial, Helvetica, Geneva, sans-serif;\n",
        "        line-height: 145%;\n",
        "        font-size: 130%;\n",
        "        width:800px;\n",
        "        margin-left:auto;\n",
        "        margin-right:auto;\n",
        "    }\n",
        "    .CodeMirror{\n",
        "            font-family: \"Source Code Pro\", source-code-pro,Consolas, monospace;\n",
        "    }\n",
        "    .note{\n",
        "            border-bottom: 1px black dotted;\n",
        "    }\n",
        "    .prompt{\n",
        "        display: None;\n",
        "    }\n",
        "    .text_cell_render h5 {\n",
        "        font-weight: 300;\n",
        "        font-size: 16pt;\n",
        "        color: #4057A1;\n",
        "        font-style: italic;\n",
        "        margin-bottom: .5em;\n",
        "        margin-top: 0.5em;\n",
        "        display: block;\n",
        "    }\n",
        "    \n",
        "    .warning{\n",
        "        color: rgb( 240, 20, 20 )\n",
        "        }  \n",
        "</style>\n",
        "<script>\n",
        "    MathJax.Hub.Config({\n",
        "                        TeX: {\n",
        "                           extensions: [\"AMSmath.js\"]\n",
        "                           },\n",
        "                tex2jax: {\n",
        "                    inlineMath: [ ['$','$'], [\"\\\\(\",\"\\\\)\"] ],\n",
        "                    displayMath: [ ['$$','$$'], [\"\\\\[\",\"\\\\]\"] ]\n",
        "                },\n",
        "                displayAlign: 'center', // Change this to 'center' to center equations.\n",
        "                \"HTML-CSS\": {\n",
        "                    styles: {'.MathJax_Display': {\"margin\": 4}}\n",
        "                }\n",
        "        });\n",
        "</script>"
       ],
       "output_type": "pyout",
       "prompt_number": 1,
       "text": [
        "<IPython.core.display.HTML at 0x50f8f98>"
       ]
      }
     ],
     "prompt_number": 1
    }
   ],
   "metadata": {}
  }
 ]
}