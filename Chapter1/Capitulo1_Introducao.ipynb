{
 "metadata": {
  "name": "Capitulo1_Introducao"
 },
 "nbformat": 3,
 "nbformat_minor": 0,
 "worksheets": [
  {
   "cells": [
    {
     "cell_type": "markdown",
     "metadata": {},
     "source": [
      "Cap\u00edtulo 1\n",
      "==========\n",
      "__________\n",
      "\n",
      "Introdu\u00e7\u00e3o\n",
      "----------\n",
      "[Python](http://www.python.org) \u00e9 uma linguagem de alt\u00edssimo n\u00edvel (em ingl\u00eas, *Very High Level Language*) orientada a objeto, de tipagem din\u00e2mica e forte, interpretada e interativa.\n",
      "\n",
      "Caracter\u00edsticas\n",
      "---------------\n",
      "O Python possui uma sintaxe clara e concisa, que favorece a legibilidade do c\u00f3digo fonte, tornando a linguagem mais produtiva.\n",
      "\n",
      "A linguagem inclui diversas estruturas de alto n\u00edvel (listas, dicion\u00e1rios, data / hora, complexos e outras) e uma vasta cole\u00e7\u00e3o de m\u00f3dulos prontos para uso, al\u00e9m de *frameworks* de terceiros que podem ser adicionados. Tamb\u00e9m possui recursos encontrados em outras linguagens modernas, tais como: geradores, introspec\u00e7\u00e3o, persist\u00eancia, metaclasses e unidades de teste. Multiparadigma, a linguagem suporta programa\u00e7\u00e3o modular e funcional, al\u00e9m da orienta\u00e7\u00e3o a objetos. Mesmo os tipos b\u00e1sicos no Python s\u00e3o objetos. A linguagem \u00e9 interpretada atrav\u00e9s de *bytecode* pela m\u00e1quina virtual Python, tornando o c\u00f3digo port\u00e1vel. Com isso \u00e9 poss\u00edvel compilar aplica\u00e7\u00f5es em uma plataforma e rodar em outros sistemas ou executar direto do c\u00f3digo fonte."
     ]
    },
    {
     "cell_type": "code",
     "collapsed": false,
     "input": [],
     "language": "python",
     "metadata": {},
     "outputs": []
    }
   ],
   "metadata": {}
  }
 ]
}